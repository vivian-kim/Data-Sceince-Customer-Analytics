{
 "cells": [
  {
   "cell_type": "markdown",
   "id": "2a22f57d",
   "metadata": {},
   "source": [
    "### import libraries "
   ]
  },
  {
   "cell_type": "code",
   "execution_count": 65,
   "id": "571210d3",
   "metadata": {},
   "outputs": [],
   "source": [
    "import numpy as np\n",
    "import pandas as pd\n",
    "\n",
    "from sklearn.preprocessing import StandardScaler\n",
    "from sklearn.decomposition import PCA\n",
    "from sklearn.cluster import KMeans\n",
    "\n",
    "import pickle\n",
    "\n",
    "import matplotlib.pyplot as plt\n",
    "import seaborn as sns\n",
    "sns.set()"
   ]
  },
  {
   "cell_type": "markdown",
   "id": "6f340f6f",
   "metadata": {},
   "source": [
    "### Data read"
   ]
  },
  {
   "cell_type": "code",
   "execution_count": 4,
   "id": "ce066b47",
   "metadata": {},
   "outputs": [],
   "source": [
    "df=pd.read_csv(\"purchase-analytics/purchase data.csv\")"
   ]
  },
  {
   "cell_type": "code",
   "execution_count": 6,
   "id": "49677a8f",
   "metadata": {},
   "outputs": [
    {
     "data": {
      "text/html": [
       "<div>\n",
       "<style scoped>\n",
       "    .dataframe tbody tr th:only-of-type {\n",
       "        vertical-align: middle;\n",
       "    }\n",
       "\n",
       "    .dataframe tbody tr th {\n",
       "        vertical-align: top;\n",
       "    }\n",
       "\n",
       "    .dataframe thead th {\n",
       "        text-align: right;\n",
       "    }\n",
       "</style>\n",
       "<table border=\"1\" class=\"dataframe\">\n",
       "  <thead>\n",
       "    <tr style=\"text-align: right;\">\n",
       "      <th></th>\n",
       "      <th>ID</th>\n",
       "      <th>Day</th>\n",
       "      <th>Incidence</th>\n",
       "      <th>Brand</th>\n",
       "      <th>Quantity</th>\n",
       "      <th>Last_Inc_Brand</th>\n",
       "      <th>Last_Inc_Quantity</th>\n",
       "      <th>Price_1</th>\n",
       "      <th>Price_2</th>\n",
       "      <th>Price_3</th>\n",
       "      <th>...</th>\n",
       "      <th>Promotion_3</th>\n",
       "      <th>Promotion_4</th>\n",
       "      <th>Promotion_5</th>\n",
       "      <th>Sex</th>\n",
       "      <th>Marital status</th>\n",
       "      <th>Age</th>\n",
       "      <th>Education</th>\n",
       "      <th>Income</th>\n",
       "      <th>Occupation</th>\n",
       "      <th>Settlement size</th>\n",
       "    </tr>\n",
       "  </thead>\n",
       "  <tbody>\n",
       "    <tr>\n",
       "      <th>count</th>\n",
       "      <td>5.869300e+04</td>\n",
       "      <td>58693.000000</td>\n",
       "      <td>58693.000000</td>\n",
       "      <td>58693.000000</td>\n",
       "      <td>58693.000000</td>\n",
       "      <td>58693.000000</td>\n",
       "      <td>58693.000000</td>\n",
       "      <td>58693.000000</td>\n",
       "      <td>58693.000000</td>\n",
       "      <td>58693.000000</td>\n",
       "      <td>...</td>\n",
       "      <td>58693.000000</td>\n",
       "      <td>58693.000000</td>\n",
       "      <td>58693.000000</td>\n",
       "      <td>58693.000000</td>\n",
       "      <td>58693.000000</td>\n",
       "      <td>58693.000000</td>\n",
       "      <td>58693.000000</td>\n",
       "      <td>58693.000000</td>\n",
       "      <td>58693.000000</td>\n",
       "      <td>58693.000000</td>\n",
       "    </tr>\n",
       "    <tr>\n",
       "      <th>mean</th>\n",
       "      <td>2.000003e+08</td>\n",
       "      <td>349.431074</td>\n",
       "      <td>0.249399</td>\n",
       "      <td>0.844309</td>\n",
       "      <td>0.691973</td>\n",
       "      <td>0.840799</td>\n",
       "      <td>0.248070</td>\n",
       "      <td>1.392074</td>\n",
       "      <td>1.780999</td>\n",
       "      <td>2.006789</td>\n",
       "      <td>...</td>\n",
       "      <td>0.042799</td>\n",
       "      <td>0.117851</td>\n",
       "      <td>0.035865</td>\n",
       "      <td>0.385889</td>\n",
       "      <td>0.393113</td>\n",
       "      <td>38.793962</td>\n",
       "      <td>1.101579</td>\n",
       "      <td>121841.644319</td>\n",
       "      <td>0.774198</td>\n",
       "      <td>0.655904</td>\n",
       "    </tr>\n",
       "    <tr>\n",
       "      <th>std</th>\n",
       "      <td>1.443167e+02</td>\n",
       "      <td>212.045058</td>\n",
       "      <td>0.432669</td>\n",
       "      <td>1.633083</td>\n",
       "      <td>1.498734</td>\n",
       "      <td>1.631628</td>\n",
       "      <td>0.431897</td>\n",
       "      <td>0.091139</td>\n",
       "      <td>0.170868</td>\n",
       "      <td>0.046867</td>\n",
       "      <td>...</td>\n",
       "      <td>0.202405</td>\n",
       "      <td>0.322434</td>\n",
       "      <td>0.185954</td>\n",
       "      <td>0.486809</td>\n",
       "      <td>0.488446</td>\n",
       "      <td>12.052447</td>\n",
       "      <td>0.652499</td>\n",
       "      <td>40643.740678</td>\n",
       "      <td>0.663247</td>\n",
       "      <td>0.794162</td>\n",
       "    </tr>\n",
       "    <tr>\n",
       "      <th>min</th>\n",
       "      <td>2.000000e+08</td>\n",
       "      <td>1.000000</td>\n",
       "      <td>0.000000</td>\n",
       "      <td>0.000000</td>\n",
       "      <td>0.000000</td>\n",
       "      <td>0.000000</td>\n",
       "      <td>0.000000</td>\n",
       "      <td>1.100000</td>\n",
       "      <td>1.260000</td>\n",
       "      <td>1.870000</td>\n",
       "      <td>...</td>\n",
       "      <td>0.000000</td>\n",
       "      <td>0.000000</td>\n",
       "      <td>0.000000</td>\n",
       "      <td>0.000000</td>\n",
       "      <td>0.000000</td>\n",
       "      <td>18.000000</td>\n",
       "      <td>0.000000</td>\n",
       "      <td>38247.000000</td>\n",
       "      <td>0.000000</td>\n",
       "      <td>0.000000</td>\n",
       "    </tr>\n",
       "    <tr>\n",
       "      <th>25%</th>\n",
       "      <td>2.000001e+08</td>\n",
       "      <td>161.000000</td>\n",
       "      <td>0.000000</td>\n",
       "      <td>0.000000</td>\n",
       "      <td>0.000000</td>\n",
       "      <td>0.000000</td>\n",
       "      <td>0.000000</td>\n",
       "      <td>1.340000</td>\n",
       "      <td>1.580000</td>\n",
       "      <td>1.970000</td>\n",
       "      <td>...</td>\n",
       "      <td>0.000000</td>\n",
       "      <td>0.000000</td>\n",
       "      <td>0.000000</td>\n",
       "      <td>0.000000</td>\n",
       "      <td>0.000000</td>\n",
       "      <td>30.000000</td>\n",
       "      <td>1.000000</td>\n",
       "      <td>95541.000000</td>\n",
       "      <td>0.000000</td>\n",
       "      <td>0.000000</td>\n",
       "    </tr>\n",
       "    <tr>\n",
       "      <th>50%</th>\n",
       "      <td>2.000003e+08</td>\n",
       "      <td>343.000000</td>\n",
       "      <td>0.000000</td>\n",
       "      <td>0.000000</td>\n",
       "      <td>0.000000</td>\n",
       "      <td>0.000000</td>\n",
       "      <td>0.000000</td>\n",
       "      <td>1.390000</td>\n",
       "      <td>1.880000</td>\n",
       "      <td>2.010000</td>\n",
       "      <td>...</td>\n",
       "      <td>0.000000</td>\n",
       "      <td>0.000000</td>\n",
       "      <td>0.000000</td>\n",
       "      <td>0.000000</td>\n",
       "      <td>0.000000</td>\n",
       "      <td>36.000000</td>\n",
       "      <td>1.000000</td>\n",
       "      <td>117971.000000</td>\n",
       "      <td>1.000000</td>\n",
       "      <td>0.000000</td>\n",
       "    </tr>\n",
       "    <tr>\n",
       "      <th>75%</th>\n",
       "      <td>2.000004e+08</td>\n",
       "      <td>530.000000</td>\n",
       "      <td>0.000000</td>\n",
       "      <td>0.000000</td>\n",
       "      <td>0.000000</td>\n",
       "      <td>0.000000</td>\n",
       "      <td>0.000000</td>\n",
       "      <td>1.470000</td>\n",
       "      <td>1.890000</td>\n",
       "      <td>2.060000</td>\n",
       "      <td>...</td>\n",
       "      <td>0.000000</td>\n",
       "      <td>0.000000</td>\n",
       "      <td>0.000000</td>\n",
       "      <td>1.000000</td>\n",
       "      <td>1.000000</td>\n",
       "      <td>46.000000</td>\n",
       "      <td>1.000000</td>\n",
       "      <td>138525.000000</td>\n",
       "      <td>1.000000</td>\n",
       "      <td>1.000000</td>\n",
       "    </tr>\n",
       "    <tr>\n",
       "      <th>max</th>\n",
       "      <td>2.000005e+08</td>\n",
       "      <td>730.000000</td>\n",
       "      <td>1.000000</td>\n",
       "      <td>5.000000</td>\n",
       "      <td>15.000000</td>\n",
       "      <td>5.000000</td>\n",
       "      <td>1.000000</td>\n",
       "      <td>1.590000</td>\n",
       "      <td>1.900000</td>\n",
       "      <td>2.140000</td>\n",
       "      <td>...</td>\n",
       "      <td>1.000000</td>\n",
       "      <td>1.000000</td>\n",
       "      <td>1.000000</td>\n",
       "      <td>1.000000</td>\n",
       "      <td>1.000000</td>\n",
       "      <td>75.000000</td>\n",
       "      <td>3.000000</td>\n",
       "      <td>309364.000000</td>\n",
       "      <td>2.000000</td>\n",
       "      <td>2.000000</td>\n",
       "    </tr>\n",
       "  </tbody>\n",
       "</table>\n",
       "<p>8 rows × 24 columns</p>\n",
       "</div>"
      ],
      "text/plain": [
       "                 ID           Day     Incidence         Brand      Quantity  \\\n",
       "count  5.869300e+04  58693.000000  58693.000000  58693.000000  58693.000000   \n",
       "mean   2.000003e+08    349.431074      0.249399      0.844309      0.691973   \n",
       "std    1.443167e+02    212.045058      0.432669      1.633083      1.498734   \n",
       "min    2.000000e+08      1.000000      0.000000      0.000000      0.000000   \n",
       "25%    2.000001e+08    161.000000      0.000000      0.000000      0.000000   \n",
       "50%    2.000003e+08    343.000000      0.000000      0.000000      0.000000   \n",
       "75%    2.000004e+08    530.000000      0.000000      0.000000      0.000000   \n",
       "max    2.000005e+08    730.000000      1.000000      5.000000     15.000000   \n",
       "\n",
       "       Last_Inc_Brand  Last_Inc_Quantity       Price_1       Price_2  \\\n",
       "count    58693.000000       58693.000000  58693.000000  58693.000000   \n",
       "mean         0.840799           0.248070      1.392074      1.780999   \n",
       "std          1.631628           0.431897      0.091139      0.170868   \n",
       "min          0.000000           0.000000      1.100000      1.260000   \n",
       "25%          0.000000           0.000000      1.340000      1.580000   \n",
       "50%          0.000000           0.000000      1.390000      1.880000   \n",
       "75%          0.000000           0.000000      1.470000      1.890000   \n",
       "max          5.000000           1.000000      1.590000      1.900000   \n",
       "\n",
       "            Price_3  ...   Promotion_3   Promotion_4   Promotion_5  \\\n",
       "count  58693.000000  ...  58693.000000  58693.000000  58693.000000   \n",
       "mean       2.006789  ...      0.042799      0.117851      0.035865   \n",
       "std        0.046867  ...      0.202405      0.322434      0.185954   \n",
       "min        1.870000  ...      0.000000      0.000000      0.000000   \n",
       "25%        1.970000  ...      0.000000      0.000000      0.000000   \n",
       "50%        2.010000  ...      0.000000      0.000000      0.000000   \n",
       "75%        2.060000  ...      0.000000      0.000000      0.000000   \n",
       "max        2.140000  ...      1.000000      1.000000      1.000000   \n",
       "\n",
       "                Sex  Marital status           Age     Education  \\\n",
       "count  58693.000000    58693.000000  58693.000000  58693.000000   \n",
       "mean       0.385889        0.393113     38.793962      1.101579   \n",
       "std        0.486809        0.488446     12.052447      0.652499   \n",
       "min        0.000000        0.000000     18.000000      0.000000   \n",
       "25%        0.000000        0.000000     30.000000      1.000000   \n",
       "50%        0.000000        0.000000     36.000000      1.000000   \n",
       "75%        1.000000        1.000000     46.000000      1.000000   \n",
       "max        1.000000        1.000000     75.000000      3.000000   \n",
       "\n",
       "              Income    Occupation  Settlement size  \n",
       "count   58693.000000  58693.000000     58693.000000  \n",
       "mean   121841.644319      0.774198         0.655904  \n",
       "std     40643.740678      0.663247         0.794162  \n",
       "min     38247.000000      0.000000         0.000000  \n",
       "25%     95541.000000      0.000000         0.000000  \n",
       "50%    117971.000000      1.000000         0.000000  \n",
       "75%    138525.000000      1.000000         1.000000  \n",
       "max    309364.000000      2.000000         2.000000  \n",
       "\n",
       "[8 rows x 24 columns]"
      ]
     },
     "execution_count": 6,
     "metadata": {},
     "output_type": "execute_result"
    }
   ],
   "source": [
    "df.describe()\n",
    "\n",
    "#each customer has row so the describtion is not useful "
   ]
  },
  {
   "cell_type": "code",
   "execution_count": 7,
   "id": "9a602d18",
   "metadata": {},
   "outputs": [
    {
     "data": {
      "text/plain": [
       "ID                   0\n",
       "Day                  0\n",
       "Incidence            0\n",
       "Brand                0\n",
       "Quantity             0\n",
       "Last_Inc_Brand       0\n",
       "Last_Inc_Quantity    0\n",
       "Price_1              0\n",
       "Price_2              0\n",
       "Price_3              0\n",
       "Price_4              0\n",
       "Price_5              0\n",
       "Promotion_1          0\n",
       "Promotion_2          0\n",
       "Promotion_3          0\n",
       "Promotion_4          0\n",
       "Promotion_5          0\n",
       "Sex                  0\n",
       "Marital status       0\n",
       "Age                  0\n",
       "Education            0\n",
       "Income               0\n",
       "Occupation           0\n",
       "Settlement size      0\n",
       "dtype: int64"
      ]
     },
     "execution_count": 7,
     "metadata": {},
     "output_type": "execute_result"
    }
   ],
   "source": [
    "#there is no missing data\n",
    "df.isnull().sum()"
   ]
  },
  {
   "cell_type": "markdown",
   "id": "87688c87",
   "metadata": {},
   "source": [
    "### Applying the segmentation model"
   ]
  },
  {
   "cell_type": "code",
   "execution_count": 13,
   "id": "1a624f5b",
   "metadata": {},
   "outputs": [],
   "source": [
    "#what has to be done? \n",
    "\n",
    "#1.standardize data \n",
    "#2. pca\n",
    "#3. k means pca"
   ]
  },
  {
   "cell_type": "markdown",
   "id": "fe422b5e",
   "metadata": {},
   "source": [
    "### Import Segmentation Model"
   ]
  },
  {
   "cell_type": "code",
   "execution_count": 27,
   "id": "0e6887bb",
   "metadata": {},
   "outputs": [],
   "source": [
    "scaler=pickle.load(open('sacler.pickle','rb'))"
   ]
  },
  {
   "cell_type": "code",
   "execution_count": 29,
   "id": "5b81c95d",
   "metadata": {},
   "outputs": [],
   "source": [
    "pca =pickle.load(open('pca_pickle.pickle','rb'))"
   ]
  },
  {
   "cell_type": "code",
   "execution_count": 31,
   "id": "99dbdec2",
   "metadata": {},
   "outputs": [],
   "source": [
    "kmeans_pca = pickle.load(open('kmeans_pca_pickle.pickle','rb'))"
   ]
  },
  {
   "cell_type": "markdown",
   "id": "95ffb62f",
   "metadata": {},
   "source": [
    "### Standardization"
   ]
  },
  {
   "cell_type": "code",
   "execution_count": 32,
   "id": "3077a84d",
   "metadata": {},
   "outputs": [
    {
     "data": {
      "text/plain": [
       "Index(['ID', 'Day', 'Incidence', 'Brand', 'Quantity', 'Last_Inc_Brand',\n",
       "       'Last_Inc_Quantity', 'Price_1', 'Price_2', 'Price_3', 'Price_4',\n",
       "       'Price_5', 'Promotion_1', 'Promotion_2', 'Promotion_3', 'Promotion_4',\n",
       "       'Promotion_5', 'Sex', 'Marital status', 'Age', 'Education', 'Income',\n",
       "       'Occupation', 'Settlement size'],\n",
       "      dtype='object')"
      ]
     },
     "execution_count": 32,
     "metadata": {},
     "output_type": "execute_result"
    }
   ],
   "source": [
    "df.columns"
   ]
  },
  {
   "cell_type": "code",
   "execution_count": 34,
   "id": "b618034f",
   "metadata": {},
   "outputs": [],
   "source": [
    "features = df[[ 'Sex', 'Marital status', 'Age', 'Education', 'Income','Occupation', 'Settlement size']]\n",
    "\n",
    "df_purchasae_segm_std=scaler.transform(features)"
   ]
  },
  {
   "cell_type": "markdown",
   "id": "72f89e47",
   "metadata": {},
   "source": [
    "### PCA"
   ]
  },
  {
   "cell_type": "code",
   "execution_count": 35,
   "id": "d7c94545",
   "metadata": {},
   "outputs": [],
   "source": [
    "df_purchase_segm_pca= pca.transform(df_purchasae_segm_std)"
   ]
  },
  {
   "cell_type": "code",
   "execution_count": null,
   "id": "73ccb757",
   "metadata": {},
   "outputs": [],
   "source": [
    "#pca score"
   ]
  },
  {
   "cell_type": "markdown",
   "id": "ca248b74",
   "metadata": {},
   "source": [
    "### K-MEANS PCA"
   ]
  },
  {
   "cell_type": "code",
   "execution_count": 36,
   "id": "cae2fa95",
   "metadata": {},
   "outputs": [],
   "source": [
    "purchase_segm_kmeans_pca= kmeans_pca.predict(df_purchase_segm_pca)"
   ]
  },
  {
   "cell_type": "code",
   "execution_count": 37,
   "id": "a5e2c825",
   "metadata": {},
   "outputs": [],
   "source": [
    "df_purchase_predictors = df.copy()"
   ]
  },
  {
   "cell_type": "code",
   "execution_count": 38,
   "id": "e61d1959",
   "metadata": {},
   "outputs": [],
   "source": [
    "df_purchase_predictors['Segment']= purchase_segm_kmeans_pca"
   ]
  },
  {
   "cell_type": "code",
   "execution_count": 42,
   "id": "e48862fd",
   "metadata": {},
   "outputs": [
    {
     "data": {
      "text/html": [
       "<div>\n",
       "<style scoped>\n",
       "    .dataframe tbody tr th:only-of-type {\n",
       "        vertical-align: middle;\n",
       "    }\n",
       "\n",
       "    .dataframe tbody tr th {\n",
       "        vertical-align: top;\n",
       "    }\n",
       "\n",
       "    .dataframe thead th {\n",
       "        text-align: right;\n",
       "    }\n",
       "</style>\n",
       "<table border=\"1\" class=\"dataframe\">\n",
       "  <thead>\n",
       "    <tr style=\"text-align: right;\">\n",
       "      <th></th>\n",
       "      <th>ID</th>\n",
       "      <th>Day</th>\n",
       "      <th>Incidence</th>\n",
       "      <th>Brand</th>\n",
       "      <th>Quantity</th>\n",
       "      <th>Last_Inc_Brand</th>\n",
       "      <th>Last_Inc_Quantity</th>\n",
       "      <th>Price_1</th>\n",
       "      <th>Price_2</th>\n",
       "      <th>Price_3</th>\n",
       "      <th>...</th>\n",
       "      <th>Promotion_4</th>\n",
       "      <th>Promotion_5</th>\n",
       "      <th>Sex</th>\n",
       "      <th>Marital status</th>\n",
       "      <th>Age</th>\n",
       "      <th>Education</th>\n",
       "      <th>Income</th>\n",
       "      <th>Occupation</th>\n",
       "      <th>Settlement size</th>\n",
       "      <th>Segment</th>\n",
       "    </tr>\n",
       "  </thead>\n",
       "  <tbody>\n",
       "    <tr>\n",
       "      <th>0</th>\n",
       "      <td>200000001</td>\n",
       "      <td>1</td>\n",
       "      <td>0</td>\n",
       "      <td>0</td>\n",
       "      <td>0</td>\n",
       "      <td>0</td>\n",
       "      <td>0</td>\n",
       "      <td>1.59</td>\n",
       "      <td>1.87</td>\n",
       "      <td>2.01</td>\n",
       "      <td>...</td>\n",
       "      <td>0</td>\n",
       "      <td>0</td>\n",
       "      <td>0</td>\n",
       "      <td>0</td>\n",
       "      <td>47</td>\n",
       "      <td>1</td>\n",
       "      <td>110866</td>\n",
       "      <td>1</td>\n",
       "      <td>0</td>\n",
       "      <td>2</td>\n",
       "    </tr>\n",
       "    <tr>\n",
       "      <th>1</th>\n",
       "      <td>200000001</td>\n",
       "      <td>11</td>\n",
       "      <td>0</td>\n",
       "      <td>0</td>\n",
       "      <td>0</td>\n",
       "      <td>0</td>\n",
       "      <td>0</td>\n",
       "      <td>1.51</td>\n",
       "      <td>1.89</td>\n",
       "      <td>1.99</td>\n",
       "      <td>...</td>\n",
       "      <td>0</td>\n",
       "      <td>0</td>\n",
       "      <td>0</td>\n",
       "      <td>0</td>\n",
       "      <td>47</td>\n",
       "      <td>1</td>\n",
       "      <td>110866</td>\n",
       "      <td>1</td>\n",
       "      <td>0</td>\n",
       "      <td>2</td>\n",
       "    </tr>\n",
       "  </tbody>\n",
       "</table>\n",
       "<p>2 rows × 25 columns</p>\n",
       "</div>"
      ],
      "text/plain": [
       "          ID  Day  Incidence  Brand  Quantity  Last_Inc_Brand  \\\n",
       "0  200000001    1          0      0         0               0   \n",
       "1  200000001   11          0      0         0               0   \n",
       "\n",
       "   Last_Inc_Quantity  Price_1  Price_2  Price_3  ...  Promotion_4  \\\n",
       "0                  0     1.59     1.87     2.01  ...            0   \n",
       "1                  0     1.51     1.89     1.99  ...            0   \n",
       "\n",
       "   Promotion_5  Sex  Marital status  Age  Education  Income  Occupation  \\\n",
       "0            0    0               0   47          1  110866           1   \n",
       "1            0    0               0   47          1  110866           1   \n",
       "\n",
       "   Settlement size  Segment  \n",
       "0                0        2  \n",
       "1                0        2  \n",
       "\n",
       "[2 rows x 25 columns]"
      ]
     },
     "execution_count": 42,
     "metadata": {},
     "output_type": "execute_result"
    }
   ],
   "source": [
    "df_purchase_predictors.head(2)"
   ]
  },
  {
   "cell_type": "markdown",
   "id": "ddf0e9a3",
   "metadata": {},
   "source": [
    "### Data analysis by Custoemr"
   ]
  },
  {
   "cell_type": "code",
   "execution_count": 41,
   "id": "bca4b79e",
   "metadata": {},
   "outputs": [
    {
     "data": {
      "text/html": [
       "<div>\n",
       "<style scoped>\n",
       "    .dataframe tbody tr th:only-of-type {\n",
       "        vertical-align: middle;\n",
       "    }\n",
       "\n",
       "    .dataframe tbody tr th {\n",
       "        vertical-align: top;\n",
       "    }\n",
       "\n",
       "    .dataframe thead th {\n",
       "        text-align: right;\n",
       "    }\n",
       "</style>\n",
       "<table border=\"1\" class=\"dataframe\">\n",
       "  <thead>\n",
       "    <tr style=\"text-align: right;\">\n",
       "      <th></th>\n",
       "      <th>ID</th>\n",
       "      <th>Day</th>\n",
       "      <th>Incidence</th>\n",
       "      <th>Brand</th>\n",
       "      <th>Quantity</th>\n",
       "      <th>Last_Inc_Brand</th>\n",
       "      <th>Last_Inc_Quantity</th>\n",
       "      <th>Price_1</th>\n",
       "      <th>Price_2</th>\n",
       "      <th>Price_3</th>\n",
       "      <th>...</th>\n",
       "      <th>Promotion_4</th>\n",
       "      <th>Promotion_5</th>\n",
       "      <th>Sex</th>\n",
       "      <th>Marital status</th>\n",
       "      <th>Age</th>\n",
       "      <th>Education</th>\n",
       "      <th>Income</th>\n",
       "      <th>Occupation</th>\n",
       "      <th>Settlement size</th>\n",
       "      <th>Segment</th>\n",
       "    </tr>\n",
       "  </thead>\n",
       "  <tbody>\n",
       "    <tr>\n",
       "      <th>0</th>\n",
       "      <td>200000001</td>\n",
       "      <td>1</td>\n",
       "      <td>0</td>\n",
       "      <td>0</td>\n",
       "      <td>0</td>\n",
       "      <td>0</td>\n",
       "      <td>0</td>\n",
       "      <td>1.59</td>\n",
       "      <td>1.87</td>\n",
       "      <td>2.01</td>\n",
       "      <td>...</td>\n",
       "      <td>0</td>\n",
       "      <td>0</td>\n",
       "      <td>0</td>\n",
       "      <td>0</td>\n",
       "      <td>47</td>\n",
       "      <td>1</td>\n",
       "      <td>110866</td>\n",
       "      <td>1</td>\n",
       "      <td>0</td>\n",
       "      <td>2</td>\n",
       "    </tr>\n",
       "    <tr>\n",
       "      <th>1</th>\n",
       "      <td>200000001</td>\n",
       "      <td>11</td>\n",
       "      <td>0</td>\n",
       "      <td>0</td>\n",
       "      <td>0</td>\n",
       "      <td>0</td>\n",
       "      <td>0</td>\n",
       "      <td>1.51</td>\n",
       "      <td>1.89</td>\n",
       "      <td>1.99</td>\n",
       "      <td>...</td>\n",
       "      <td>0</td>\n",
       "      <td>0</td>\n",
       "      <td>0</td>\n",
       "      <td>0</td>\n",
       "      <td>47</td>\n",
       "      <td>1</td>\n",
       "      <td>110866</td>\n",
       "      <td>1</td>\n",
       "      <td>0</td>\n",
       "      <td>2</td>\n",
       "    </tr>\n",
       "  </tbody>\n",
       "</table>\n",
       "<p>2 rows × 25 columns</p>\n",
       "</div>"
      ],
      "text/plain": [
       "          ID  Day  Incidence  Brand  Quantity  Last_Inc_Brand  \\\n",
       "0  200000001    1          0      0         0               0   \n",
       "1  200000001   11          0      0         0               0   \n",
       "\n",
       "   Last_Inc_Quantity  Price_1  Price_2  Price_3  ...  Promotion_4  \\\n",
       "0                  0     1.59     1.87     2.01  ...            0   \n",
       "1                  0     1.51     1.89     1.99  ...            0   \n",
       "\n",
       "   Promotion_5  Sex  Marital status  Age  Education  Income  Occupation  \\\n",
       "0            0    0               0   47          1  110866           1   \n",
       "1            0    0               0   47          1  110866           1   \n",
       "\n",
       "   Settlement size  Segment  \n",
       "0                0        2  \n",
       "1                0        2  \n",
       "\n",
       "[2 rows x 25 columns]"
      ]
     },
     "execution_count": 41,
     "metadata": {},
     "output_type": "execute_result"
    }
   ],
   "source": [
    "df_purchase_predictors.head(2)"
   ]
  },
  {
   "cell_type": "code",
   "execution_count": 43,
   "id": "f84eba9d",
   "metadata": {},
   "outputs": [],
   "source": [
    "#number of visit per ID\n",
    "\n",
    "temp1= df_purchase_predictors[['ID','Incidence']].groupby(['ID'], as_index= False).count()\n",
    "temp1= temp1.set_index('ID')\n",
    "temp1=temp1.rename(columns={'Incidence':'# of visit'})"
   ]
  },
  {
   "cell_type": "code",
   "execution_count": 44,
   "id": "f3b71563",
   "metadata": {},
   "outputs": [
    {
     "data": {
      "text/html": [
       "<div>\n",
       "<style scoped>\n",
       "    .dataframe tbody tr th:only-of-type {\n",
       "        vertical-align: middle;\n",
       "    }\n",
       "\n",
       "    .dataframe tbody tr th {\n",
       "        vertical-align: top;\n",
       "    }\n",
       "\n",
       "    .dataframe thead th {\n",
       "        text-align: right;\n",
       "    }\n",
       "</style>\n",
       "<table border=\"1\" class=\"dataframe\">\n",
       "  <thead>\n",
       "    <tr style=\"text-align: right;\">\n",
       "      <th></th>\n",
       "      <th># of visit</th>\n",
       "    </tr>\n",
       "    <tr>\n",
       "      <th>ID</th>\n",
       "      <th></th>\n",
       "    </tr>\n",
       "  </thead>\n",
       "  <tbody>\n",
       "    <tr>\n",
       "      <th>200000001</th>\n",
       "      <td>101</td>\n",
       "    </tr>\n",
       "    <tr>\n",
       "      <th>200000002</th>\n",
       "      <td>87</td>\n",
       "    </tr>\n",
       "    <tr>\n",
       "      <th>200000003</th>\n",
       "      <td>97</td>\n",
       "    </tr>\n",
       "    <tr>\n",
       "      <th>200000004</th>\n",
       "      <td>85</td>\n",
       "    </tr>\n",
       "    <tr>\n",
       "      <th>200000005</th>\n",
       "      <td>111</td>\n",
       "    </tr>\n",
       "    <tr>\n",
       "      <th>...</th>\n",
       "      <td>...</td>\n",
       "    </tr>\n",
       "    <tr>\n",
       "      <th>200000496</th>\n",
       "      <td>120</td>\n",
       "    </tr>\n",
       "    <tr>\n",
       "      <th>200000497</th>\n",
       "      <td>120</td>\n",
       "    </tr>\n",
       "    <tr>\n",
       "      <th>200000498</th>\n",
       "      <td>131</td>\n",
       "    </tr>\n",
       "    <tr>\n",
       "      <th>200000499</th>\n",
       "      <td>106</td>\n",
       "    </tr>\n",
       "    <tr>\n",
       "      <th>200000500</th>\n",
       "      <td>124</td>\n",
       "    </tr>\n",
       "  </tbody>\n",
       "</table>\n",
       "<p>500 rows × 1 columns</p>\n",
       "</div>"
      ],
      "text/plain": [
       "           # of visit\n",
       "ID                   \n",
       "200000001         101\n",
       "200000002          87\n",
       "200000003          97\n",
       "200000004          85\n",
       "200000005         111\n",
       "...               ...\n",
       "200000496         120\n",
       "200000497         120\n",
       "200000498         131\n",
       "200000499         106\n",
       "200000500         124\n",
       "\n",
       "[500 rows x 1 columns]"
      ]
     },
     "execution_count": 44,
     "metadata": {},
     "output_type": "execute_result"
    }
   ],
   "source": [
    "temp1"
   ]
  },
  {
   "cell_type": "code",
   "execution_count": 47,
   "id": "11aa5920",
   "metadata": {},
   "outputs": [
    {
     "data": {
      "text/html": [
       "<div>\n",
       "<style scoped>\n",
       "    .dataframe tbody tr th:only-of-type {\n",
       "        vertical-align: middle;\n",
       "    }\n",
       "\n",
       "    .dataframe tbody tr th {\n",
       "        vertical-align: top;\n",
       "    }\n",
       "\n",
       "    .dataframe thead th {\n",
       "        text-align: right;\n",
       "    }\n",
       "</style>\n",
       "<table border=\"1\" class=\"dataframe\">\n",
       "  <thead>\n",
       "    <tr style=\"text-align: right;\">\n",
       "      <th></th>\n",
       "      <th># of visit</th>\n",
       "      <th># of Purchases</th>\n",
       "    </tr>\n",
       "    <tr>\n",
       "      <th>ID</th>\n",
       "      <th></th>\n",
       "      <th></th>\n",
       "    </tr>\n",
       "  </thead>\n",
       "  <tbody>\n",
       "    <tr>\n",
       "      <th>200000001</th>\n",
       "      <td>101</td>\n",
       "      <td>9</td>\n",
       "    </tr>\n",
       "    <tr>\n",
       "      <th>200000002</th>\n",
       "      <td>87</td>\n",
       "      <td>11</td>\n",
       "    </tr>\n",
       "    <tr>\n",
       "      <th>200000003</th>\n",
       "      <td>97</td>\n",
       "      <td>10</td>\n",
       "    </tr>\n",
       "    <tr>\n",
       "      <th>200000004</th>\n",
       "      <td>85</td>\n",
       "      <td>11</td>\n",
       "    </tr>\n",
       "    <tr>\n",
       "      <th>200000005</th>\n",
       "      <td>111</td>\n",
       "      <td>13</td>\n",
       "    </tr>\n",
       "  </tbody>\n",
       "</table>\n",
       "</div>"
      ],
      "text/plain": [
       "           # of visit  # of Purchases\n",
       "ID                                   \n",
       "200000001         101               9\n",
       "200000002          87              11\n",
       "200000003          97              10\n",
       "200000004          85              11\n",
       "200000005         111              13"
      ]
     },
     "execution_count": 47,
     "metadata": {},
     "output_type": "execute_result"
    }
   ],
   "source": [
    "#number of purchases per ID\n",
    "\n",
    "temp2= df_purchase_predictors[['ID','Incidence']].groupby(['ID'], as_index= False).sum()\n",
    "temp2= temp2.set_index('ID')\n",
    "temp2=temp2.rename(columns={'Incidence':'# of Purchases'})\n",
    "temp3 = temp1.join(temp2)\n",
    "temp3.head()"
   ]
  },
  {
   "cell_type": "code",
   "execution_count": 50,
   "id": "2d04d521",
   "metadata": {},
   "outputs": [
    {
     "data": {
      "text/html": [
       "<div>\n",
       "<style scoped>\n",
       "    .dataframe tbody tr th:only-of-type {\n",
       "        vertical-align: middle;\n",
       "    }\n",
       "\n",
       "    .dataframe tbody tr th {\n",
       "        vertical-align: top;\n",
       "    }\n",
       "\n",
       "    .dataframe thead th {\n",
       "        text-align: right;\n",
       "    }\n",
       "</style>\n",
       "<table border=\"1\" class=\"dataframe\">\n",
       "  <thead>\n",
       "    <tr style=\"text-align: right;\">\n",
       "      <th></th>\n",
       "      <th># of visit</th>\n",
       "      <th># of Purchases</th>\n",
       "      <th>Avg_N_purchases</th>\n",
       "    </tr>\n",
       "    <tr>\n",
       "      <th>ID</th>\n",
       "      <th></th>\n",
       "      <th></th>\n",
       "      <th></th>\n",
       "    </tr>\n",
       "  </thead>\n",
       "  <tbody>\n",
       "    <tr>\n",
       "      <th>200000001</th>\n",
       "      <td>101</td>\n",
       "      <td>9</td>\n",
       "      <td>0.089109</td>\n",
       "    </tr>\n",
       "    <tr>\n",
       "      <th>200000002</th>\n",
       "      <td>87</td>\n",
       "      <td>11</td>\n",
       "      <td>0.126437</td>\n",
       "    </tr>\n",
       "  </tbody>\n",
       "</table>\n",
       "</div>"
      ],
      "text/plain": [
       "           # of visit  # of Purchases  Avg_N_purchases\n",
       "ID                                                    \n",
       "200000001         101               9         0.089109\n",
       "200000002          87              11         0.126437"
      ]
     },
     "execution_count": 50,
     "metadata": {},
     "output_type": "execute_result"
    }
   ],
   "source": [
    "#avg number of purchases \n",
    "\n",
    "temp3['Avg_N_purchases']= temp3['# of Purchases']/ temp3['# of visit']\n",
    "temp3.head(2)"
   ]
  },
  {
   "cell_type": "code",
   "execution_count": 55,
   "id": "a4898dae",
   "metadata": {},
   "outputs": [],
   "source": [
    "# which segment customer is belongs to.  \n",
    "\n",
    "temp4= df_purchase_predictors[['ID','Segment']].groupby(['ID'], as_index= False).mean()\n",
    "temp4= temp4.set_index('ID')\n",
    "df_purchase_descr = temp3.join(temp4)"
   ]
  },
  {
   "cell_type": "code",
   "execution_count": 57,
   "id": "9e47d9a4",
   "metadata": {},
   "outputs": [
    {
     "data": {
      "text/html": [
       "<div>\n",
       "<style scoped>\n",
       "    .dataframe tbody tr th:only-of-type {\n",
       "        vertical-align: middle;\n",
       "    }\n",
       "\n",
       "    .dataframe tbody tr th {\n",
       "        vertical-align: top;\n",
       "    }\n",
       "\n",
       "    .dataframe thead th {\n",
       "        text-align: right;\n",
       "    }\n",
       "</style>\n",
       "<table border=\"1\" class=\"dataframe\">\n",
       "  <thead>\n",
       "    <tr style=\"text-align: right;\">\n",
       "      <th></th>\n",
       "      <th># of visit</th>\n",
       "      <th># of Purchases</th>\n",
       "      <th>Avg_N_purchases</th>\n",
       "      <th>Segment</th>\n",
       "    </tr>\n",
       "    <tr>\n",
       "      <th>ID</th>\n",
       "      <th></th>\n",
       "      <th></th>\n",
       "      <th></th>\n",
       "      <th></th>\n",
       "    </tr>\n",
       "  </thead>\n",
       "  <tbody>\n",
       "    <tr>\n",
       "      <th>200000001</th>\n",
       "      <td>101</td>\n",
       "      <td>9</td>\n",
       "      <td>0.089109</td>\n",
       "      <td>2.0</td>\n",
       "    </tr>\n",
       "    <tr>\n",
       "      <th>200000002</th>\n",
       "      <td>87</td>\n",
       "      <td>11</td>\n",
       "      <td>0.126437</td>\n",
       "      <td>3.0</td>\n",
       "    </tr>\n",
       "    <tr>\n",
       "      <th>200000003</th>\n",
       "      <td>97</td>\n",
       "      <td>10</td>\n",
       "      <td>0.103093</td>\n",
       "      <td>2.0</td>\n",
       "    </tr>\n",
       "  </tbody>\n",
       "</table>\n",
       "</div>"
      ],
      "text/plain": [
       "           # of visit  # of Purchases  Avg_N_purchases  Segment\n",
       "ID                                                             \n",
       "200000001         101               9         0.089109      2.0\n",
       "200000002          87              11         0.126437      3.0\n",
       "200000003          97              10         0.103093      2.0"
      ]
     },
     "execution_count": 57,
     "metadata": {},
     "output_type": "execute_result"
    }
   ],
   "source": [
    "df_purchase_descr.head(3)"
   ]
  },
  {
   "cell_type": "code",
   "execution_count": 58,
   "id": "af2d1c44",
   "metadata": {},
   "outputs": [],
   "source": [
    "###there are over 500 individuals, still too big number to analyse. let's analyse behaviours per segment"
   ]
  },
  {
   "cell_type": "markdown",
   "id": "d6474266",
   "metadata": {},
   "source": [
    "### Segment Proportions "
   ]
  },
  {
   "cell_type": "code",
   "execution_count": 71,
   "id": "ebfec14a",
   "metadata": {},
   "outputs": [
    {
     "data": {
      "text/html": [
       "<div>\n",
       "<style scoped>\n",
       "    .dataframe tbody tr th:only-of-type {\n",
       "        vertical-align: middle;\n",
       "    }\n",
       "\n",
       "    .dataframe tbody tr th {\n",
       "        vertical-align: top;\n",
       "    }\n",
       "\n",
       "    .dataframe thead th {\n",
       "        text-align: right;\n",
       "    }\n",
       "</style>\n",
       "<table border=\"1\" class=\"dataframe\">\n",
       "  <thead>\n",
       "    <tr style=\"text-align: right;\">\n",
       "      <th></th>\n",
       "      <th>Segment proportion</th>\n",
       "    </tr>\n",
       "    <tr>\n",
       "      <th>Segment</th>\n",
       "      <th></th>\n",
       "    </tr>\n",
       "  </thead>\n",
       "  <tbody>\n",
       "    <tr>\n",
       "      <th>0.0</th>\n",
       "      <td>0.206</td>\n",
       "    </tr>\n",
       "    <tr>\n",
       "      <th>1.0</th>\n",
       "      <td>0.220</td>\n",
       "    </tr>\n",
       "    <tr>\n",
       "      <th>2.0</th>\n",
       "      <td>0.378</td>\n",
       "    </tr>\n",
       "    <tr>\n",
       "      <th>3.0</th>\n",
       "      <td>0.196</td>\n",
       "    </tr>\n",
       "  </tbody>\n",
       "</table>\n",
       "</div>"
      ],
      "text/plain": [
       "         Segment proportion\n",
       "Segment                    \n",
       "0.0                   0.206\n",
       "1.0                   0.220\n",
       "2.0                   0.378\n",
       "3.0                   0.196"
      ]
     },
     "execution_count": 71,
     "metadata": {},
     "output_type": "execute_result"
    }
   ],
   "source": [
    "segm_prop= df_purchase_descr[['# of Purchases','Segment']].groupby(['Segment']).count()/ df_purchase_descr.shape[0]\n",
    "segm_prop = segm_prop.rename(columns={'# of Purchases':'Segment proportion'})\n",
    "segm_prop.head()"
   ]
  },
  {
   "cell_type": "code",
   "execution_count": 79,
   "id": "735754cd",
   "metadata": {},
   "outputs": [
    {
     "data": {
      "text/html": [
       "<div>\n",
       "<style scoped>\n",
       "    .dataframe tbody tr th:only-of-type {\n",
       "        vertical-align: middle;\n",
       "    }\n",
       "\n",
       "    .dataframe tbody tr th {\n",
       "        vertical-align: top;\n",
       "    }\n",
       "\n",
       "    .dataframe thead th {\n",
       "        text-align: right;\n",
       "    }\n",
       "</style>\n",
       "<table border=\"1\" class=\"dataframe\">\n",
       "  <thead>\n",
       "    <tr style=\"text-align: right;\">\n",
       "      <th></th>\n",
       "      <th>Segment proportion</th>\n",
       "    </tr>\n",
       "    <tr>\n",
       "      <th>Segment</th>\n",
       "      <th></th>\n",
       "    </tr>\n",
       "  </thead>\n",
       "  <tbody>\n",
       "    <tr>\n",
       "      <th>0.0</th>\n",
       "      <td>0.206</td>\n",
       "    </tr>\n",
       "    <tr>\n",
       "      <th>1.0</th>\n",
       "      <td>0.220</td>\n",
       "    </tr>\n",
       "    <tr>\n",
       "      <th>2.0</th>\n",
       "      <td>0.378</td>\n",
       "    </tr>\n",
       "    <tr>\n",
       "      <th>3.0</th>\n",
       "      <td>0.196</td>\n",
       "    </tr>\n",
       "  </tbody>\n",
       "</table>\n",
       "</div>"
      ],
      "text/plain": [
       "         Segment proportion\n",
       "Segment                    \n",
       "0.0                   0.206\n",
       "1.0                   0.220\n",
       "2.0                   0.378\n",
       "3.0                   0.196"
      ]
     },
     "execution_count": 79,
     "metadata": {},
     "output_type": "execute_result"
    }
   ],
   "source": [
    "segm_prop"
   ]
  },
  {
   "cell_type": "code",
   "execution_count": 87,
   "id": "0458ba9e",
   "metadata": {},
   "outputs": [
    {
     "data": {
      "text/plain": [
       "Text(0.5, 1.0, 'Segment Proportions')"
      ]
     },
     "execution_count": 87,
     "metadata": {},
     "output_type": "execute_result"
    },
    {
     "data": {
      "image/png": "[encoded data removed]",
      "text/plain": [
       "<Figure size 800x400 with 1 Axes>"
      ]
     },
     "metadata": {},
     "output_type": "display_data"
    }
   ],
   "source": [
    "plt.figure(figsize=(8,4))\n",
    "# label=['Standard, Career-Focused','Fewer-Opportuniteis','Well-off']\n",
    "plt.pie(segm_prop['Segment proportion'],\n",
    "        labels=['Standard', 'Career-Focused','Fewer-Opportuniteis','Well-off'],\n",
    "       autopct ='%1.1f%%',\n",
    "       colors=('b','g','orange','r'))\n",
    "plt.title('Segment Proportions')\n"
   ]
  },
  {
   "cell_type": "markdown",
   "id": "5be1bbfd",
   "metadata": {},
   "source": [
    "### Purchase Occasion and Purchase Incidence "
   ]
  },
  {
   "cell_type": "markdown",
   "id": "d8862789",
   "metadata": {},
   "source": [
    "mean= average behaviour\n",
    "std = how homogenous each segmentation is "
   ]
  },
  {
   "cell_type": "code",
   "execution_count": 89,
   "id": "1e7847a6",
   "metadata": {},
   "outputs": [
    {
     "data": {
      "text/html": [
       "<div>\n",
       "<style scoped>\n",
       "    .dataframe tbody tr th:only-of-type {\n",
       "        vertical-align: middle;\n",
       "    }\n",
       "\n",
       "    .dataframe tbody tr th {\n",
       "        vertical-align: top;\n",
       "    }\n",
       "\n",
       "    .dataframe thead th {\n",
       "        text-align: right;\n",
       "    }\n",
       "</style>\n",
       "<table border=\"1\" class=\"dataframe\">\n",
       "  <thead>\n",
       "    <tr style=\"text-align: right;\">\n",
       "      <th></th>\n",
       "      <th># of visit</th>\n",
       "      <th># of Purchases</th>\n",
       "      <th>Avg_N_purchases</th>\n",
       "    </tr>\n",
       "    <tr>\n",
       "      <th>Segment</th>\n",
       "      <th></th>\n",
       "      <th></th>\n",
       "      <th></th>\n",
       "    </tr>\n",
       "  </thead>\n",
       "  <tbody>\n",
       "    <tr>\n",
       "      <th>0.0</th>\n",
       "      <td>117.699029</td>\n",
       "      <td>24.902913</td>\n",
       "      <td>0.212773</td>\n",
       "    </tr>\n",
       "    <tr>\n",
       "      <th>1.0</th>\n",
       "      <td>123.454545</td>\n",
       "      <td>39.827273</td>\n",
       "      <td>0.283102</td>\n",
       "    </tr>\n",
       "    <tr>\n",
       "      <th>2.0</th>\n",
       "      <td>113.730159</td>\n",
       "      <td>22.756614</td>\n",
       "      <td>0.201588</td>\n",
       "    </tr>\n",
       "    <tr>\n",
       "      <th>3.0</th>\n",
       "      <td>117.295918</td>\n",
       "      <td>34.602041</td>\n",
       "      <td>0.284478</td>\n",
       "    </tr>\n",
       "  </tbody>\n",
       "</table>\n",
       "</div>"
      ],
      "text/plain": [
       "         # of visit  # of Purchases  Avg_N_purchases\n",
       "Segment                                             \n",
       "0.0      117.699029       24.902913         0.212773\n",
       "1.0      123.454545       39.827273         0.283102\n",
       "2.0      113.730159       22.756614         0.201588\n",
       "3.0      117.295918       34.602041         0.284478"
      ]
     },
     "execution_count": 89,
     "metadata": {},
     "output_type": "execute_result"
    }
   ],
   "source": [
    "segment_mean = df_purchase_descr.groupby(['Segment']).mean()\n",
    "segment_mean"
   ]
  },
  {
   "cell_type": "code",
   "execution_count": 90,
   "id": "fa2a3163",
   "metadata": {},
   "outputs": [
    {
     "data": {
      "text/html": [
       "<div>\n",
       "<style scoped>\n",
       "    .dataframe tbody tr th:only-of-type {\n",
       "        vertical-align: middle;\n",
       "    }\n",
       "\n",
       "    .dataframe tbody tr th {\n",
       "        vertical-align: top;\n",
       "    }\n",
       "\n",
       "    .dataframe thead th {\n",
       "        text-align: right;\n",
       "    }\n",
       "</style>\n",
       "<table border=\"1\" class=\"dataframe\">\n",
       "  <thead>\n",
       "    <tr style=\"text-align: right;\">\n",
       "      <th></th>\n",
       "      <th># of visit</th>\n",
       "      <th># of Purchases</th>\n",
       "      <th>Avg_N_purchases</th>\n",
       "    </tr>\n",
       "    <tr>\n",
       "      <th>Segment</th>\n",
       "      <th></th>\n",
       "      <th></th>\n",
       "      <th></th>\n",
       "    </tr>\n",
       "  </thead>\n",
       "  <tbody>\n",
       "    <tr>\n",
       "      <th>0.0</th>\n",
       "      <td>19.039605</td>\n",
       "      <td>16.774464</td>\n",
       "      <td>0.126603</td>\n",
       "    </tr>\n",
       "    <tr>\n",
       "      <th>1.0</th>\n",
       "      <td>44.864656</td>\n",
       "      <td>53.744530</td>\n",
       "      <td>0.200056</td>\n",
       "    </tr>\n",
       "    <tr>\n",
       "      <th>2.0</th>\n",
       "      <td>16.410498</td>\n",
       "      <td>13.815040</td>\n",
       "      <td>0.120335</td>\n",
       "    </tr>\n",
       "    <tr>\n",
       "      <th>3.0</th>\n",
       "      <td>20.716152</td>\n",
       "      <td>25.900579</td>\n",
       "      <td>0.171787</td>\n",
       "    </tr>\n",
       "  </tbody>\n",
       "</table>\n",
       "</div>"
      ],
      "text/plain": [
       "         # of visit  # of Purchases  Avg_N_purchases\n",
       "Segment                                             \n",
       "0.0       19.039605       16.774464         0.126603\n",
       "1.0       44.864656       53.744530         0.200056\n",
       "2.0       16.410498       13.815040         0.120335\n",
       "3.0       20.716152       25.900579         0.171787"
      ]
     },
     "execution_count": 90,
     "metadata": {},
     "output_type": "execute_result"
    }
   ],
   "source": [
    "segment_std =df_purchase_descr.groupby(['Segment']).std()\n",
    "segment_std"
   ]
  },
  {
   "cell_type": "code",
   "execution_count": 97,
   "id": "e3c0f22c",
   "metadata": {},
   "outputs": [
    {
     "data": {
      "text/plain": [
       "Text(0.5, 1.0, 'Avg number of store visits by Segment')"
      ]
     },
     "execution_count": 97,
     "metadata": {},
     "output_type": "execute_result"
    },
    {
     "data": {
      "image/png": "[encoded data removed]",
      "text/plain": [
       "<Figure size 800x400 with 1 Axes>"
      ]
     },
     "metadata": {},
     "output_type": "display_data"
    }
   ],
   "source": [
    "# bar chart \n",
    "\n",
    "plt.figure(figsize=(8,4))\n",
    "plt.bar(x=(0,1,2,3),\n",
    "        tick_label = ('Standard', 'Career-Focused','Fewer-Opportuniteis','Well-off'),\n",
    "        height = segment_mean['# of visit'],\n",
    "        yerr=segment_std['# of visit'],\n",
    "        color=('blue','green','red','orange'))\n",
    "plt.xlabel('Segment')\n",
    "plt.ylabel('# of Visits')\n",
    "plt.title('Avg number of store visits by Segment')"
   ]
  },
  {
   "cell_type": "markdown",
   "id": "b2fbd046",
   "metadata": {},
   "source": [
    "explanation:height = mean\n",
    "verticla line = std, how big the std is \n",
    "fewer opportunities visit the store the store least \n",
    "career-focused visits the most, however the std is high - customer in this segment are homogenous,\n",
    "so they are least alike when they visit the store. "
   ]
  },
  {
   "cell_type": "markdown",
   "id": "ab29de30",
   "metadata": {},
   "source": [
    "### How often do they buy a product? "
   ]
  },
  {
   "cell_type": "code",
   "execution_count": 101,
   "id": "67f54950",
   "metadata": {},
   "outputs": [
    {
     "data": {
      "text/plain": [
       "Text(0.5, 1.0, '# number of Purchases by Segment')"
      ]
     },
     "execution_count": 101,
     "metadata": {},
     "output_type": "execute_result"
    },
    {
     "data": {
      "image/png": "[encoded data removed]",
      "text/plain": [
       "<Figure size 800x400 with 1 Axes>"
      ]
     },
     "metadata": {},
     "output_type": "display_data"
    }
   ],
   "source": [
    "# bar chart \n",
    "\n",
    "plt.figure(figsize=(8,4))\n",
    "plt.bar(x=(0,1,2,3),\n",
    "        tick_label = ('Standard', 'Career-Focused','Fewer-Opportuniteis','Well-off'),\n",
    "        height = segment_mean['# of Purchases'],\n",
    "        yerr=segment_std['# of Purchases'],\n",
    "        color=('blue','green','red','orange'))\n",
    "plt.xlabel('Segment')\n",
    "plt.ylabel('# of Purchases')\n",
    "plt.title('# number of Purchases by Segment')"
   ]
  },
  {
   "cell_type": "markdown",
   "id": "13dfcfe1",
   "metadata": {},
   "source": [
    "explanation: Career-Focused group buys products frequently however, however the std is big. It means that some of them buy products frequently but the other part less. \n",
    "The most homogenous segment is \"fewer opportuniteis\" their purchasing behaviour is similar and as well as the frequency of purchasing. "
   ]
  },
  {
   "cell_type": "markdown",
   "id": "5ff71c75",
   "metadata": {},
   "source": [
    "### Avg number of purchaes"
   ]
  },
  {
   "cell_type": "code",
   "execution_count": 100,
   "id": "64419ce8",
   "metadata": {},
   "outputs": [
    {
     "data": {
      "text/plain": [
       "Text(0.5, 1.0, 'Avg number of Purchases by Segment')"
      ]
     },
     "execution_count": 100,
     "metadata": {},
     "output_type": "execute_result"
    },
    {
     "data": {
      "image/png": "[encoded data removed]",
      "text/plain": [
       "<Figure size 800x400 with 1 Axes>"
      ]
     },
     "metadata": {},
     "output_type": "display_data"
    }
   ],
   "source": [
    "# bar chart \n",
    "\n",
    "plt.figure(figsize=(8,4))\n",
    "plt.bar(x=(0,1,2,3),\n",
    "        tick_label = ('Standard', 'Career-Focused','Fewer-Opportuniteis','Well-off'),\n",
    "        height = segment_mean['Avg_N_purchases'],\n",
    "        yerr=segment_std['Avg_N_purchases'],\n",
    "        color=('blue','green','red','orange'))\n",
    "plt.xlabel('Segment')\n",
    "plt.ylabel('Avg_N_purchases')\n",
    "plt.title('Avg number of Purchases by Segment')"
   ]
  },
  {
   "cell_type": "markdown",
   "id": "dbce4a6c",
   "metadata": {},
   "source": [
    "Explanation: Carrer Focused gorup and well-off group both have similar average number of purchase, however\n",
    "the std is high, it means that their buying behaviour in the group can differ a lot. (e.g. some of them buy more frequently than the others) \n",
    "\n",
    "and\n",
    "few-opportuniteis gorup has the lowest average number of purchases. \n"
   ]
  }
 ],
 "metadata": {
  "kernelspec": {
   "display_name": "Python 3 (ipykernel)",
   "language": "python",
   "name": "python3"
  },
  "language_info": {
   "codemirror_mode": {
    "name": "ipython",
    "version": 3
   },
   "file_extension": ".py",
   "mimetype": "text/x-python",
   "name": "python",
   "nbconvert_exporter": "python",
   "pygments_lexer": "ipython3",
   "version": "3.9.13"
  }
 },
 "nbformat": 4,
 "nbformat_minor": 5
}
